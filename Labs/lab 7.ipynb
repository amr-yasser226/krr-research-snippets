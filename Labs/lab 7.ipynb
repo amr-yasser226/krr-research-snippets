{
 "cells": [
  {
   "cell_type": "code",
   "execution_count": null,
   "id": "99a2479f",
   "metadata": {},
   "outputs": [
    {
     "name": "stdout",
     "output_type": "stream",
     "text": [
      "First employee's salary: 105000\n",
      "Second employee's salary: 85000\n",
      "Third employee's salary: 18000\n"
     ]
    }
   ],
   "source": [
    "def employees_salary(Y_exp, edu_lvl, rate):\n",
    "    salary = 0\n",
    "\n",
    "    if (Y_exp < 2):\n",
    "        salary += 30000\n",
    "    if (Y_exp >= 2 and Y_exp <= 5):\n",
    "        salary += 40000\n",
    "    if (Y_exp > 5):\n",
    "        salary += 50000\n",
    "    \n",
    "    if (edu_lvl == \"High school diploma\"):\n",
    "        salary += 5000\n",
    "    if (edu_lvl == \"Bachelor's degree\"):\n",
    "        salary += 10000\n",
    "    if (edu_lvl == \"Master's degree\"):\n",
    "        salary += 15000\n",
    "    \n",
    "    if (rate == \"Excellent\"):\n",
    "        salary += 5000\n",
    "    if (rate == \"Good\"):\n",
    "        salary += 3000\n",
    "    if (rate == \"Average\"):\n",
    "        salary += 0\n",
    "\n",
    "    return salary\n",
    "\n",
    "print(f\"First employee's salary: {employees_salary(3, \"Bachelor's degree\", \"Excellent\")}\")\n",
    "print(f\"Second employee's salary: {employees_salary(1, \"High school diploma\", \"Average\")}\")\n",
    "print(f\"Third employee's salary: {employees_salary(6, \"Master's degree\", \"Good\")}\")"
   ]
  }
 ],
 "metadata": {
  "kernelspec": {
   "display_name": "Python 3",
   "language": "python",
   "name": "python3"
  },
  "language_info": {
   "codemirror_mode": {
    "name": "ipython",
    "version": 3
   },
   "file_extension": ".py",
   "mimetype": "text/x-python",
   "name": "python",
   "nbconvert_exporter": "python",
   "pygments_lexer": "ipython3",
   "version": "3.12.9"
  }
 },
 "nbformat": 4,
 "nbformat_minor": 5
}
